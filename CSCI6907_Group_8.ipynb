{
  "nbformat": 4,
  "nbformat_minor": 0,
  "metadata": {
    "colab": {
      "provenance": [],
      "machine_shape": "hm",
      "gpuType": "V100"
    },
    "kernelspec": {
      "name": "python3",
      "display_name": "Python 3"
    },
    "language_info": {
      "name": "python"
    },
    "accelerator": "GPU"
  },
  "cells": [
    {
      "cell_type": "code",
      "execution_count": 1,
      "metadata": {
        "colab": {
          "base_uri": "https://localhost:8080/"
        },
        "id": "f1nDhKau2ItI",
        "outputId": "c5dacad2-3aef-4e1c-9dc6-d85e8547030d"
      },
      "outputs": [
        {
          "output_type": "stream",
          "name": "stdout",
          "text": [
            "Cloning into 'EEGEyeNet'...\n",
            "remote: Enumerating objects: 302, done.\u001b[K\n",
            "remote: Counting objects: 100% (122/122), done.\u001b[K\n",
            "remote: Compressing objects: 100% (34/34), done.\u001b[K\n",
            "remote: Total 302 (delta 104), reused 88 (delta 88), pack-reused 180\u001b[K\n",
            "Receiving objects: 100% (302/302), 84.92 KiB | 3.86 MiB/s, done.\n",
            "Resolving deltas: 100% (165/165), done.\n",
            "Cloning into 'CSCI6907Project'...\n",
            "remote: Enumerating objects: 10, done.\u001b[K\n",
            "remote: Counting objects: 100% (10/10), done.\u001b[K\n",
            "remote: Compressing objects: 100% (8/8), done.\u001b[K\n",
            "remote: Total 10 (delta 2), reused 0 (delta 0), pack-reused 0\u001b[K\n",
            "Receiving objects: 100% (10/10), done.\n",
            "Resolving deltas: 100% (2/2), done.\n",
            "/content/EEGEyeNet\n"
          ]
        }
      ],
      "source": [
        "# Obtaining EEGEyeNet's benchmark framework\n",
        "!git clone https://github.com/ardkastrati/EEGEyeNet.git\n",
        "# Obtaining Our model implementations\n",
        "!git clone https://github.com/AmCh-Q/CSCI6907Project.git\n",
        "!cp -l CSCI6907Project/our_models.py EEGEyeNet\n",
        "%cd EEGEyeNet"
      ]
    },
    {
      "cell_type": "code",
      "source": [
        "# Obtaining the datasets\n",
        "!mkdir ./data\n",
        "!wget -O ./data/Position_task_with_dots_synchronised_min.npz https://osf.io/download/ge87t/\n",
        "!wget -O ./data/Position_task_with_dots_synchronised_min_hilbert.npz https://osf.io/download/bmrn9/"
      ],
      "metadata": {
        "colab": {
          "base_uri": "https://localhost:8080/"
        },
        "id": "f4gUNUd-3W05",
        "outputId": "ff10430a-e63f-4045-f146-0f9713881648"
      },
      "execution_count": 2,
      "outputs": [
        {
          "output_type": "stream",
          "name": "stdout",
          "text": [
            "--2023-12-04 04:19:05--  https://osf.io/download/ge87t/\n",
            "Resolving osf.io (osf.io)... 35.190.84.173\n",
            "Connecting to osf.io (osf.io)|35.190.84.173|:443... connected.\n",
            "HTTP request sent, awaiting response... 302 FOUND\n",
            "Location: https://files.osf.io/v1/resources/ktv7m/providers/dropbox/prepared/Position_task_with_dots_synchronised_min.npz [following]\n",
            "--2023-12-04 04:19:05--  https://files.osf.io/v1/resources/ktv7m/providers/dropbox/prepared/Position_task_with_dots_synchronised_min.npz\n",
            "Resolving files.osf.io (files.osf.io)... 35.186.214.196\n",
            "Connecting to files.osf.io (files.osf.io)|35.186.214.196|:443... connected.\n",
            "HTTP request sent, awaiting response... 200 OK\n",
            "Length: 11075939748 (10G) [application/octet-stream]\n",
            "Saving to: ‘./data/Position_task_with_dots_synchronised_min.npz’\n",
            "\n",
            "./data/Position_tas 100%[===================>]  10.31G  13.4MB/s    in 11m 24s \n",
            "\n",
            "2023-12-04 04:30:32 (15.5 MB/s) - ‘./data/Position_task_with_dots_synchronised_min.npz’ saved [11075939748/11075939748]\n",
            "\n",
            "--2023-12-04 04:30:32--  https://osf.io/download/bmrn9/\n",
            "Resolving osf.io (osf.io)... 35.190.84.173\n",
            "Connecting to osf.io (osf.io)|35.190.84.173|:443... connected.\n",
            "HTTP request sent, awaiting response... 302 FOUND\n",
            "Location: https://files.osf.io/v1/resources/ktv7m/providers/dropbox/prepared/Position_task_with_dots_synchronised_min_hilbert.npz [following]\n",
            "--2023-12-04 04:30:33--  https://files.osf.io/v1/resources/ktv7m/providers/dropbox/prepared/Position_task_with_dots_synchronised_min_hilbert.npz\n",
            "Resolving files.osf.io (files.osf.io)... 35.186.214.196\n",
            "Connecting to files.osf.io (files.osf.io)|35.186.214.196|:443... connected.\n",
            "HTTP request sent, awaiting response... 200 OK\n",
            "Length: 44817296 (43M) [application/octet-stream]\n",
            "Saving to: ‘./data/Position_task_with_dots_synchronised_min_hilbert.npz’\n",
            "\n",
            "./data/Position_tas 100%[===================>]  42.74M  8.65MB/s    in 5.7s    \n",
            "\n",
            "2023-12-04 04:30:42 (7.44 MB/s) - ‘./data/Position_task_with_dots_synchronised_min_hilbert.npz’ saved [44817296/44817296]\n",
            "\n"
          ]
        }
      ]
    },
    {
      "cell_type": "code",
      "source": [
        "# Configuring task, and dataset\n",
        "# Modified from https://github.com/ardkastrati/EEGEyeNet\n",
        "from config import config, build_file_name\n",
        "\n",
        "config['task'] = 'Position_task'\n",
        "config['dataset'] = 'dots'\n",
        "config['preprocessing'] = 'min' # or max\n",
        "config['feature_extraction'] = True # must be set to True for ML_models operating on feature extracted data\n",
        "config['include_ML_models'] = True\n",
        "config['include_DL_models'] = True\n",
        "config['include_your_models'] = False\n",
        "config['all_EEG_file'] = build_file_name()"
      ],
      "metadata": {
        "id": "1qA8G7403Ouz"
      },
      "execution_count": 3,
      "outputs": []
    },
    {
      "cell_type": "code",
      "source": [
        "# Add our model and SOTA\n",
        "import benchmark\n",
        "from hyperparameters import merge_models\n",
        "from our_models import Ours_pretrained, EEGViT_pretrained\n",
        "additional_models = {\n",
        "    'Position_task': {\n",
        "        'dots' : {\n",
        "            'min_temp' : {\n",
        "                'EEGViT': EEGViT_pretrained,\n",
        "                'Ours': Ours_pretrained\n",
        "            }\n",
        "        }\n",
        "    }\n",
        "}\n",
        "benchmark.all_models = merge_models(benchmark.all_models, additional_models)"
      ],
      "metadata": {
        "id": "ck9a6XJj6YNb"
      },
      "execution_count": 4,
      "outputs": []
    },
    {
      "cell_type": "code",
      "source": [
        "# Training and benchmarking the models\n",
        "# Modified from https://github.com/ardkastrati/EEGEyeNet\n",
        "\n",
        "# Google Colab Does not like tee-redirecting stdout (nothing gets printed)\n",
        "# It also initialized its own logging configuration that must be overwritten\n",
        "# So EEGEyeNet's main() needs to be modified here just for Colab\n",
        "import sys\n",
        "import time\n",
        "import logging\n",
        "from config import create_folder\n",
        "from utils import IOHelper\n",
        "from utils.tables_utils import print_table\n",
        "\n",
        "# Setting up logging\n",
        "create_folder()\n",
        "logging.basicConfig(filename=config['info_log'], level=logging.INFO, force=True)\n",
        "logging.info('Started the Logging')\n",
        "logging.info(f\"Using {config['framework']}\")\n",
        "start_time = time.time()\n",
        "\n",
        "#Load the data\n",
        "trainX, trainY = IOHelper.get_npz_data(config['data_dir'], verbose=True)\n",
        "\n",
        "#Start benchmark\n",
        "benchmark.benchmark(trainX, trainY)\n",
        "\n",
        "logging.info(\"--- Runtime: %s seconds ---\" % (time.time() - start_time))\n",
        "logging.info('Finished Logging')"
      ],
      "metadata": {
        "id": "S7wVF7BbP3QF"
      },
      "execution_count": null,
      "outputs": []
    },
    {
      "cell_type": "markdown",
      "source": [
        "The results of the models can be found in directory ./runs/*/info.log"
      ],
      "metadata": {
        "id": "YSiPZIifDiRZ"
      }
    }
  ]
}