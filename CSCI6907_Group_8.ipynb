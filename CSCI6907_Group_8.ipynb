{
  "nbformat": 4,
  "nbformat_minor": 0,
  "metadata": {
    "colab": {
      "provenance": [],
      "machine_shape": "hm",
      "gpuType": "V100"
    },
    "kernelspec": {
      "name": "python3",
      "display_name": "Python 3"
    },
    "language_info": {
      "name": "python"
    },
    "accelerator": "GPU",
    "widgets": {
      "application/vnd.jupyter.widget-state+json": {
        "431eaae82b2f4f74ad9f4361a2bb7fb5": {
          "model_module": "@jupyter-widgets/controls",
          "model_name": "HBoxModel",
          "model_module_version": "1.5.0",
          "state": {
            "_dom_classes": [],
            "_model_module": "@jupyter-widgets/controls",
            "_model_module_version": "1.5.0",
            "_model_name": "HBoxModel",
            "_view_count": null,
            "_view_module": "@jupyter-widgets/controls",
            "_view_module_version": "1.5.0",
            "_view_name": "HBoxView",
            "box_style": "",
            "children": [
              "IPY_MODEL_7b60821747354306942784021376542e",
              "IPY_MODEL_4ad1340a367449d5a9fce5b57eadf554",
              "IPY_MODEL_5c99b19dee5b49569d659c81ac39c09b"
            ],
            "layout": "IPY_MODEL_92a25e6783f848b7bf60d0c47cd11cd3"
          }
        },
        "7b60821747354306942784021376542e": {
          "model_module": "@jupyter-widgets/controls",
          "model_name": "HTMLModel",
          "model_module_version": "1.5.0",
          "state": {
            "_dom_classes": [],
            "_model_module": "@jupyter-widgets/controls",
            "_model_module_version": "1.5.0",
            "_model_name": "HTMLModel",
            "_view_count": null,
            "_view_module": "@jupyter-widgets/controls",
            "_view_module_version": "1.5.0",
            "_view_name": "HTMLView",
            "description": "",
            "description_tooltip": null,
            "layout": "IPY_MODEL_c212750fbafe4ea385c0538e731c5dec",
            "placeholder": "​",
            "style": "IPY_MODEL_e50e6e0a14f447e0ac735c89ade29cd3",
            "value": "config.json: 100%"
          }
        },
        "4ad1340a367449d5a9fce5b57eadf554": {
          "model_module": "@jupyter-widgets/controls",
          "model_name": "FloatProgressModel",
          "model_module_version": "1.5.0",
          "state": {
            "_dom_classes": [],
            "_model_module": "@jupyter-widgets/controls",
            "_model_module_version": "1.5.0",
            "_model_name": "FloatProgressModel",
            "_view_count": null,
            "_view_module": "@jupyter-widgets/controls",
            "_view_module_version": "1.5.0",
            "_view_name": "ProgressView",
            "bar_style": "success",
            "description": "",
            "description_tooltip": null,
            "layout": "IPY_MODEL_0b40b45753c64577a5d6ac2d6de2706e",
            "max": 69665,
            "min": 0,
            "orientation": "horizontal",
            "style": "IPY_MODEL_8ffeaa75322e4bc59f7724666f9bcf07",
            "value": 69665
          }
        },
        "5c99b19dee5b49569d659c81ac39c09b": {
          "model_module": "@jupyter-widgets/controls",
          "model_name": "HTMLModel",
          "model_module_version": "1.5.0",
          "state": {
            "_dom_classes": [],
            "_model_module": "@jupyter-widgets/controls",
            "_model_module_version": "1.5.0",
            "_model_name": "HTMLModel",
            "_view_count": null,
            "_view_module": "@jupyter-widgets/controls",
            "_view_module_version": "1.5.0",
            "_view_name": "HTMLView",
            "description": "",
            "description_tooltip": null,
            "layout": "IPY_MODEL_dcd904fa641649afb3a8cdd4173971c7",
            "placeholder": "​",
            "style": "IPY_MODEL_799918970bf5410997846f32581cd20b",
            "value": " 69.7k/69.7k [00:00&lt;00:00, 5.25MB/s]"
          }
        },
        "92a25e6783f848b7bf60d0c47cd11cd3": {
          "model_module": "@jupyter-widgets/base",
          "model_name": "LayoutModel",
          "model_module_version": "1.2.0",
          "state": {
            "_model_module": "@jupyter-widgets/base",
            "_model_module_version": "1.2.0",
            "_model_name": "LayoutModel",
            "_view_count": null,
            "_view_module": "@jupyter-widgets/base",
            "_view_module_version": "1.2.0",
            "_view_name": "LayoutView",
            "align_content": null,
            "align_items": null,
            "align_self": null,
            "border": null,
            "bottom": null,
            "display": null,
            "flex": null,
            "flex_flow": null,
            "grid_area": null,
            "grid_auto_columns": null,
            "grid_auto_flow": null,
            "grid_auto_rows": null,
            "grid_column": null,
            "grid_gap": null,
            "grid_row": null,
            "grid_template_areas": null,
            "grid_template_columns": null,
            "grid_template_rows": null,
            "height": null,
            "justify_content": null,
            "justify_items": null,
            "left": null,
            "margin": null,
            "max_height": null,
            "max_width": null,
            "min_height": null,
            "min_width": null,
            "object_fit": null,
            "object_position": null,
            "order": null,
            "overflow": null,
            "overflow_x": null,
            "overflow_y": null,
            "padding": null,
            "right": null,
            "top": null,
            "visibility": null,
            "width": null
          }
        },
        "c212750fbafe4ea385c0538e731c5dec": {
          "model_module": "@jupyter-widgets/base",
          "model_name": "LayoutModel",
          "model_module_version": "1.2.0",
          "state": {
            "_model_module": "@jupyter-widgets/base",
            "_model_module_version": "1.2.0",
            "_model_name": "LayoutModel",
            "_view_count": null,
            "_view_module": "@jupyter-widgets/base",
            "_view_module_version": "1.2.0",
            "_view_name": "LayoutView",
            "align_content": null,
            "align_items": null,
            "align_self": null,
            "border": null,
            "bottom": null,
            "display": null,
            "flex": null,
            "flex_flow": null,
            "grid_area": null,
            "grid_auto_columns": null,
            "grid_auto_flow": null,
            "grid_auto_rows": null,
            "grid_column": null,
            "grid_gap": null,
            "grid_row": null,
            "grid_template_areas": null,
            "grid_template_columns": null,
            "grid_template_rows": null,
            "height": null,
            "justify_content": null,
            "justify_items": null,
            "left": null,
            "margin": null,
            "max_height": null,
            "max_width": null,
            "min_height": null,
            "min_width": null,
            "object_fit": null,
            "object_position": null,
            "order": null,
            "overflow": null,
            "overflow_x": null,
            "overflow_y": null,
            "padding": null,
            "right": null,
            "top": null,
            "visibility": null,
            "width": null
          }
        },
        "e50e6e0a14f447e0ac735c89ade29cd3": {
          "model_module": "@jupyter-widgets/controls",
          "model_name": "DescriptionStyleModel",
          "model_module_version": "1.5.0",
          "state": {
            "_model_module": "@jupyter-widgets/controls",
            "_model_module_version": "1.5.0",
            "_model_name": "DescriptionStyleModel",
            "_view_count": null,
            "_view_module": "@jupyter-widgets/base",
            "_view_module_version": "1.2.0",
            "_view_name": "StyleView",
            "description_width": ""
          }
        },
        "0b40b45753c64577a5d6ac2d6de2706e": {
          "model_module": "@jupyter-widgets/base",
          "model_name": "LayoutModel",
          "model_module_version": "1.2.0",
          "state": {
            "_model_module": "@jupyter-widgets/base",
            "_model_module_version": "1.2.0",
            "_model_name": "LayoutModel",
            "_view_count": null,
            "_view_module": "@jupyter-widgets/base",
            "_view_module_version": "1.2.0",
            "_view_name": "LayoutView",
            "align_content": null,
            "align_items": null,
            "align_self": null,
            "border": null,
            "bottom": null,
            "display": null,
            "flex": null,
            "flex_flow": null,
            "grid_area": null,
            "grid_auto_columns": null,
            "grid_auto_flow": null,
            "grid_auto_rows": null,
            "grid_column": null,
            "grid_gap": null,
            "grid_row": null,
            "grid_template_areas": null,
            "grid_template_columns": null,
            "grid_template_rows": null,
            "height": null,
            "justify_content": null,
            "justify_items": null,
            "left": null,
            "margin": null,
            "max_height": null,
            "max_width": null,
            "min_height": null,
            "min_width": null,
            "object_fit": null,
            "object_position": null,
            "order": null,
            "overflow": null,
            "overflow_x": null,
            "overflow_y": null,
            "padding": null,
            "right": null,
            "top": null,
            "visibility": null,
            "width": null
          }
        },
        "8ffeaa75322e4bc59f7724666f9bcf07": {
          "model_module": "@jupyter-widgets/controls",
          "model_name": "ProgressStyleModel",
          "model_module_version": "1.5.0",
          "state": {
            "_model_module": "@jupyter-widgets/controls",
            "_model_module_version": "1.5.0",
            "_model_name": "ProgressStyleModel",
            "_view_count": null,
            "_view_module": "@jupyter-widgets/base",
            "_view_module_version": "1.2.0",
            "_view_name": "StyleView",
            "bar_color": null,
            "description_width": ""
          }
        },
        "dcd904fa641649afb3a8cdd4173971c7": {
          "model_module": "@jupyter-widgets/base",
          "model_name": "LayoutModel",
          "model_module_version": "1.2.0",
          "state": {
            "_model_module": "@jupyter-widgets/base",
            "_model_module_version": "1.2.0",
            "_model_name": "LayoutModel",
            "_view_count": null,
            "_view_module": "@jupyter-widgets/base",
            "_view_module_version": "1.2.0",
            "_view_name": "LayoutView",
            "align_content": null,
            "align_items": null,
            "align_self": null,
            "border": null,
            "bottom": null,
            "display": null,
            "flex": null,
            "flex_flow": null,
            "grid_area": null,
            "grid_auto_columns": null,
            "grid_auto_flow": null,
            "grid_auto_rows": null,
            "grid_column": null,
            "grid_gap": null,
            "grid_row": null,
            "grid_template_areas": null,
            "grid_template_columns": null,
            "grid_template_rows": null,
            "height": null,
            "justify_content": null,
            "justify_items": null,
            "left": null,
            "margin": null,
            "max_height": null,
            "max_width": null,
            "min_height": null,
            "min_width": null,
            "object_fit": null,
            "object_position": null,
            "order": null,
            "overflow": null,
            "overflow_x": null,
            "overflow_y": null,
            "padding": null,
            "right": null,
            "top": null,
            "visibility": null,
            "width": null
          }
        },
        "799918970bf5410997846f32581cd20b": {
          "model_module": "@jupyter-widgets/controls",
          "model_name": "DescriptionStyleModel",
          "model_module_version": "1.5.0",
          "state": {
            "_model_module": "@jupyter-widgets/controls",
            "_model_module_version": "1.5.0",
            "_model_name": "DescriptionStyleModel",
            "_view_count": null,
            "_view_module": "@jupyter-widgets/base",
            "_view_module_version": "1.2.0",
            "_view_name": "StyleView",
            "description_width": ""
          }
        },
        "5b54ce25e7e24bd990969820f5d584b5": {
          "model_module": "@jupyter-widgets/controls",
          "model_name": "HBoxModel",
          "model_module_version": "1.5.0",
          "state": {
            "_dom_classes": [],
            "_model_module": "@jupyter-widgets/controls",
            "_model_module_version": "1.5.0",
            "_model_name": "HBoxModel",
            "_view_count": null,
            "_view_module": "@jupyter-widgets/controls",
            "_view_module_version": "1.5.0",
            "_view_name": "HBoxView",
            "box_style": "",
            "children": [
              "IPY_MODEL_f6b6b7c625cc4d9388b484ce9b651817",
              "IPY_MODEL_a68ab8e9ec3a4e0982a58a47a8410657",
              "IPY_MODEL_670591ee507749149fce08143f75ea77"
            ],
            "layout": "IPY_MODEL_3bb49fcf8e644c7e944ec7a78aa555a0"
          }
        },
        "f6b6b7c625cc4d9388b484ce9b651817": {
          "model_module": "@jupyter-widgets/controls",
          "model_name": "HTMLModel",
          "model_module_version": "1.5.0",
          "state": {
            "_dom_classes": [],
            "_model_module": "@jupyter-widgets/controls",
            "_model_module_version": "1.5.0",
            "_model_name": "HTMLModel",
            "_view_count": null,
            "_view_module": "@jupyter-widgets/controls",
            "_view_module_version": "1.5.0",
            "_view_name": "HTMLView",
            "description": "",
            "description_tooltip": null,
            "layout": "IPY_MODEL_6234cd512cf6467191f02b9f0b51341f",
            "placeholder": "​",
            "style": "IPY_MODEL_e9d9f9e0e8444802ac817a8982efdb46",
            "value": "model.safetensors: 100%"
          }
        },
        "a68ab8e9ec3a4e0982a58a47a8410657": {
          "model_module": "@jupyter-widgets/controls",
          "model_name": "FloatProgressModel",
          "model_module_version": "1.5.0",
          "state": {
            "_dom_classes": [],
            "_model_module": "@jupyter-widgets/controls",
            "_model_module_version": "1.5.0",
            "_model_name": "FloatProgressModel",
            "_view_count": null,
            "_view_module": "@jupyter-widgets/controls",
            "_view_module_version": "1.5.0",
            "_view_name": "ProgressView",
            "bar_style": "success",
            "description": "",
            "description_tooltip": null,
            "layout": "IPY_MODEL_6c6185c40e7e4a70a220e1de59036816",
            "max": 346293852,
            "min": 0,
            "orientation": "horizontal",
            "style": "IPY_MODEL_ddddf0518c914d1593bb34ff4ce6a3e9",
            "value": 346293852
          }
        },
        "670591ee507749149fce08143f75ea77": {
          "model_module": "@jupyter-widgets/controls",
          "model_name": "HTMLModel",
          "model_module_version": "1.5.0",
          "state": {
            "_dom_classes": [],
            "_model_module": "@jupyter-widgets/controls",
            "_model_module_version": "1.5.0",
            "_model_name": "HTMLModel",
            "_view_count": null,
            "_view_module": "@jupyter-widgets/controls",
            "_view_module_version": "1.5.0",
            "_view_name": "HTMLView",
            "description": "",
            "description_tooltip": null,
            "layout": "IPY_MODEL_8f4bac47c98b402ea84aa614f8c9280e",
            "placeholder": "​",
            "style": "IPY_MODEL_2e20866ad867493eac02749943c92b33",
            "value": " 346M/346M [00:01&lt;00:00, 196MB/s]"
          }
        },
        "3bb49fcf8e644c7e944ec7a78aa555a0": {
          "model_module": "@jupyter-widgets/base",
          "model_name": "LayoutModel",
          "model_module_version": "1.2.0",
          "state": {
            "_model_module": "@jupyter-widgets/base",
            "_model_module_version": "1.2.0",
            "_model_name": "LayoutModel",
            "_view_count": null,
            "_view_module": "@jupyter-widgets/base",
            "_view_module_version": "1.2.0",
            "_view_name": "LayoutView",
            "align_content": null,
            "align_items": null,
            "align_self": null,
            "border": null,
            "bottom": null,
            "display": null,
            "flex": null,
            "flex_flow": null,
            "grid_area": null,
            "grid_auto_columns": null,
            "grid_auto_flow": null,
            "grid_auto_rows": null,
            "grid_column": null,
            "grid_gap": null,
            "grid_row": null,
            "grid_template_areas": null,
            "grid_template_columns": null,
            "grid_template_rows": null,
            "height": null,
            "justify_content": null,
            "justify_items": null,
            "left": null,
            "margin": null,
            "max_height": null,
            "max_width": null,
            "min_height": null,
            "min_width": null,
            "object_fit": null,
            "object_position": null,
            "order": null,
            "overflow": null,
            "overflow_x": null,
            "overflow_y": null,
            "padding": null,
            "right": null,
            "top": null,
            "visibility": null,
            "width": null
          }
        },
        "6234cd512cf6467191f02b9f0b51341f": {
          "model_module": "@jupyter-widgets/base",
          "model_name": "LayoutModel",
          "model_module_version": "1.2.0",
          "state": {
            "_model_module": "@jupyter-widgets/base",
            "_model_module_version": "1.2.0",
            "_model_name": "LayoutModel",
            "_view_count": null,
            "_view_module": "@jupyter-widgets/base",
            "_view_module_version": "1.2.0",
            "_view_name": "LayoutView",
            "align_content": null,
            "align_items": null,
            "align_self": null,
            "border": null,
            "bottom": null,
            "display": null,
            "flex": null,
            "flex_flow": null,
            "grid_area": null,
            "grid_auto_columns": null,
            "grid_auto_flow": null,
            "grid_auto_rows": null,
            "grid_column": null,
            "grid_gap": null,
            "grid_row": null,
            "grid_template_areas": null,
            "grid_template_columns": null,
            "grid_template_rows": null,
            "height": null,
            "justify_content": null,
            "justify_items": null,
            "left": null,
            "margin": null,
            "max_height": null,
            "max_width": null,
            "min_height": null,
            "min_width": null,
            "object_fit": null,
            "object_position": null,
            "order": null,
            "overflow": null,
            "overflow_x": null,
            "overflow_y": null,
            "padding": null,
            "right": null,
            "top": null,
            "visibility": null,
            "width": null
          }
        },
        "e9d9f9e0e8444802ac817a8982efdb46": {
          "model_module": "@jupyter-widgets/controls",
          "model_name": "DescriptionStyleModel",
          "model_module_version": "1.5.0",
          "state": {
            "_model_module": "@jupyter-widgets/controls",
            "_model_module_version": "1.5.0",
            "_model_name": "DescriptionStyleModel",
            "_view_count": null,
            "_view_module": "@jupyter-widgets/base",
            "_view_module_version": "1.2.0",
            "_view_name": "StyleView",
            "description_width": ""
          }
        },
        "6c6185c40e7e4a70a220e1de59036816": {
          "model_module": "@jupyter-widgets/base",
          "model_name": "LayoutModel",
          "model_module_version": "1.2.0",
          "state": {
            "_model_module": "@jupyter-widgets/base",
            "_model_module_version": "1.2.0",
            "_model_name": "LayoutModel",
            "_view_count": null,
            "_view_module": "@jupyter-widgets/base",
            "_view_module_version": "1.2.0",
            "_view_name": "LayoutView",
            "align_content": null,
            "align_items": null,
            "align_self": null,
            "border": null,
            "bottom": null,
            "display": null,
            "flex": null,
            "flex_flow": null,
            "grid_area": null,
            "grid_auto_columns": null,
            "grid_auto_flow": null,
            "grid_auto_rows": null,
            "grid_column": null,
            "grid_gap": null,
            "grid_row": null,
            "grid_template_areas": null,
            "grid_template_columns": null,
            "grid_template_rows": null,
            "height": null,
            "justify_content": null,
            "justify_items": null,
            "left": null,
            "margin": null,
            "max_height": null,
            "max_width": null,
            "min_height": null,
            "min_width": null,
            "object_fit": null,
            "object_position": null,
            "order": null,
            "overflow": null,
            "overflow_x": null,
            "overflow_y": null,
            "padding": null,
            "right": null,
            "top": null,
            "visibility": null,
            "width": null
          }
        },
        "ddddf0518c914d1593bb34ff4ce6a3e9": {
          "model_module": "@jupyter-widgets/controls",
          "model_name": "ProgressStyleModel",
          "model_module_version": "1.5.0",
          "state": {
            "_model_module": "@jupyter-widgets/controls",
            "_model_module_version": "1.5.0",
            "_model_name": "ProgressStyleModel",
            "_view_count": null,
            "_view_module": "@jupyter-widgets/base",
            "_view_module_version": "1.2.0",
            "_view_name": "StyleView",
            "bar_color": null,
            "description_width": ""
          }
        },
        "8f4bac47c98b402ea84aa614f8c9280e": {
          "model_module": "@jupyter-widgets/base",
          "model_name": "LayoutModel",
          "model_module_version": "1.2.0",
          "state": {
            "_model_module": "@jupyter-widgets/base",
            "_model_module_version": "1.2.0",
            "_model_name": "LayoutModel",
            "_view_count": null,
            "_view_module": "@jupyter-widgets/base",
            "_view_module_version": "1.2.0",
            "_view_name": "LayoutView",
            "align_content": null,
            "align_items": null,
            "align_self": null,
            "border": null,
            "bottom": null,
            "display": null,
            "flex": null,
            "flex_flow": null,
            "grid_area": null,
            "grid_auto_columns": null,
            "grid_auto_flow": null,
            "grid_auto_rows": null,
            "grid_column": null,
            "grid_gap": null,
            "grid_row": null,
            "grid_template_areas": null,
            "grid_template_columns": null,
            "grid_template_rows": null,
            "height": null,
            "justify_content": null,
            "justify_items": null,
            "left": null,
            "margin": null,
            "max_height": null,
            "max_width": null,
            "min_height": null,
            "min_width": null,
            "object_fit": null,
            "object_position": null,
            "order": null,
            "overflow": null,
            "overflow_x": null,
            "overflow_y": null,
            "padding": null,
            "right": null,
            "top": null,
            "visibility": null,
            "width": null
          }
        },
        "2e20866ad867493eac02749943c92b33": {
          "model_module": "@jupyter-widgets/controls",
          "model_name": "DescriptionStyleModel",
          "model_module_version": "1.5.0",
          "state": {
            "_model_module": "@jupyter-widgets/controls",
            "_model_module_version": "1.5.0",
            "_model_name": "DescriptionStyleModel",
            "_view_count": null,
            "_view_module": "@jupyter-widgets/base",
            "_view_module_version": "1.2.0",
            "_view_name": "StyleView",
            "description_width": ""
          }
        }
      }
    }
  },
  "cells": [
    {
      "cell_type": "markdown",
      "source": [
        "For demo purposes, the number of runs per model (N) should be reduced to 1, in which case this benchmark would take around 2 hours to complete on a V100 GPU.  \n",
        "If you modify N to be 5 as was done in the paper, you should expect around 10 hours of run time to complete all testing.  "
      ],
      "metadata": {
        "id": "UyY8u1-I9XVA"
      }
    },
    {
      "cell_type": "code",
      "source": [
        "# Number of runs per model\n",
        "n_runs = 5\n",
        "\n",
        "# Set random seeds for reproducibility\n",
        "import torch\n",
        "torch.manual_seed(0)\n",
        "import numpy as np\n",
        "np.random.seed(0)\n",
        "import random\n",
        "random.seed(0)\n",
        "\n",
        "# Colab does not like downloading large files directly\n",
        "# If you wish to save the results\n",
        "# Consider mounting Google Drive to save the results\n",
        "#   also uncomment the lines in the last code block\n",
        "from google.colab import drive\n",
        "drive.mount('/content/drive')"
      ],
      "metadata": {
        "id": "et-VxiAu-Ujh",
        "colab": {
          "base_uri": "https://localhost:8080/"
        },
        "outputId": "b01d5ac0-7a1b-4a21-9a17-b840dbd58212"
      },
      "execution_count": null,
      "outputs": [
        {
          "output_type": "stream",
          "name": "stdout",
          "text": [
            "Drive already mounted at /content/drive; to attempt to forcibly remount, call drive.mount(\"/content/drive\", force_remount=True).\n"
          ]
        }
      ]
    },
    {
      "cell_type": "code",
      "execution_count": null,
      "metadata": {
        "colab": {
          "base_uri": "https://localhost:8080/"
        },
        "id": "f1nDhKau2ItI",
        "outputId": "5ac3ea6a-6ada-4019-f7c1-2f7fd3addaf0"
      },
      "outputs": [
        {
          "output_type": "stream",
          "name": "stdout",
          "text": [
            "Cloning into 'EEGEyeNet'...\n",
            "remote: Enumerating objects: 302, done.\u001b[K\n",
            "remote: Counting objects: 100% (122/122), done.\u001b[K\n",
            "remote: Compressing objects: 100% (34/34), done.\u001b[K\n",
            "remote: Total 302 (delta 104), reused 88 (delta 88), pack-reused 180\u001b[K\n",
            "Receiving objects: 100% (302/302), 84.92 KiB | 5.31 MiB/s, done.\n",
            "Resolving deltas: 100% (165/165), done.\n",
            "Cloning into 'CSCI6907Project'...\n",
            "remote: Enumerating objects: 132, done.\u001b[K\n",
            "remote: Counting objects: 100% (68/68), done.\u001b[K\n",
            "remote: Compressing objects: 100% (38/38), done.\u001b[K\n",
            "remote: Total 132 (delta 32), reused 53 (delta 29), pack-reused 64\u001b[K\n",
            "Receiving objects: 100% (132/132), 1.93 MiB | 26.31 MiB/s, done.\n",
            "Resolving deltas: 100% (64/64), done.\n"
          ]
        }
      ],
      "source": [
        "# Obtaining EEGEyeNet's benchmark framework\n",
        "!git clone https://github.com/ardkastrati/EEGEyeNet.git\n",
        "# Obtaining our model implementations (our model and EEGViT)\n",
        "!git clone https://github.com/AmCh-Q/CSCI6907Project.git\n",
        "# Copy our model implementations to EEGEyeNet\n",
        "!cp -l CSCI6907Project/our_models.py EEGEyeNet\n",
        "!cp -l CSCI6907Project/EEGViT_pretrained.py EEGEyeNet"
      ]
    },
    {
      "cell_type": "code",
      "source": [
        "%cd EEGEyeNet"
      ],
      "metadata": {
        "colab": {
          "base_uri": "https://localhost:8080/"
        },
        "id": "-3JiWfuQ-xU7",
        "outputId": "01059400-742c-4322-e7fc-6a732350c724"
      },
      "execution_count": null,
      "outputs": [
        {
          "output_type": "stream",
          "name": "stdout",
          "text": [
            "/content/EEGEyeNet\n"
          ]
        }
      ]
    },
    {
      "cell_type": "code",
      "source": [
        "# Obtaining the datasets\n",
        "!mkdir ./data\n",
        "\n",
        "#!wget -O ./data/Position_task_with_dots_synchronised_min.npz https://osf.io/download/ge87t/\n",
        "!cp /content/drive/MyDrive/Class/CSCI6907/Position_task_with_dots_synchronised_min.npz ./data\n",
        "\n",
        "#!wget -O ./data/Position_task_with_dots_synchronised_min_hilbert.npz https://osf.io/download/bmrn9/\n",
        "!cp /content/drive/MyDrive/Class/CSCI6907/Position_task_with_dots_synchronised_min_hilbert.npz ./data"
      ],
      "metadata": {
        "id": "f4gUNUd-3W05"
      },
      "execution_count": null,
      "outputs": []
    },
    {
      "cell_type": "code",
      "source": [
        "# Configuring task, and dataset\n",
        "# Modified from https://github.com/ardkastrati/EEGEyeNet\n",
        "from config import config, build_file_name\n",
        "\n",
        "config['task'] = 'Position_task'\n",
        "config['dataset'] = 'dots'\n",
        "config['preprocessing'] = 'min'\n",
        "config['feature_extraction'] = False"
      ],
      "metadata": {
        "id": "1qA8G7403Ouz"
      },
      "execution_count": null,
      "outputs": []
    },
    {
      "cell_type": "code",
      "source": [
        "# Google Colab does not like tee-redirecting stdout (nothing gets printed)\n",
        "# Colab also initialized its own logging configuration that must be overwritten\n",
        "# So EEGEyeNet's main() has been modified for Colab\n",
        "import sys\n",
        "import time\n",
        "import logging\n",
        "import numpy as np\n",
        "from config import create_folder\n",
        "from utils import IOHelper\n",
        "import benchmark\n",
        "from hyperparameters import merge_models\n",
        "\n",
        "# Setting up logging\n",
        "create_folder()\n",
        "logging.basicConfig(filename=config['info_log'], level=logging.INFO, force=True)\n",
        "logging.info('Started the Logging')\n",
        "logging.info(f\"Using {config['framework']}\")\n",
        "start_time = time.time()\n",
        "\n",
        "# RMSE Scoring\n",
        "from sklearn.metrics import mean_squared_error\n",
        "scoring = (lambda y, y_pred : np.sqrt(mean_squared_error(y, y_pred)))"
      ],
      "metadata": {
        "id": "zWQLiWpLXIKS"
      },
      "execution_count": null,
      "outputs": []
    },
    {
      "cell_type": "markdown",
      "source": [
        "(1) EEGEyeNet's ML models only works on hilbert transform feature-extracted data.  \n",
        "(2) EEGEyeNet's DL models and (3) EEGViT and our model only works on raw, non-feature-extracted data.  \n",
        "That means they cannot be run simultaneously.  \n",
        "We have opted to split the models into three groups, and train and test them sparately in the following four code blocks.  \n",
        "If you only wish to test our model, you can comment out the next 2 code blocks, and comment out the definition of EEGViT in the 3rd next code block."
      ],
      "metadata": {
        "id": "sXPEkbiJtfGQ"
      }
    },
    {
      "cell_type": "code",
      "source": [
        "# Training and benchmarking the EEGEyeNet ML models\n",
        "# Modified from https://github.com/ardkastrati/EEGEyeNet\n",
        "config['feature_extraction'] = True\n",
        "from hyperparameters import our_ML_dummy_models, our_ML_models\n",
        "\n",
        "#Load the data\n",
        "IOHelper.config['all_EEG_file'] = \"Position_task_with_dots_synchronised_min_hilbert.npz\"\n",
        "trainX, trainY = IOHelper.get_npz_data(config['data_dir'], verbose=True)\n",
        "\n",
        "# Start benchmark\n",
        "np.savetxt(config['model_dir']+'/config_EEGEyeNet_ML.csv', [config['task'], config['dataset'], config['preprocessing']], fmt='%s')\n",
        "models = merge_models(our_ML_dummy_models, our_ML_models)\n",
        "models = models[config['task']][config['dataset']][config['preprocessing']]\n",
        "benchmark.try_models(\n",
        "    trainX=trainX,\n",
        "    trainY=trainY[:,1:],\n",
        "    ids=trainY[:,0],\n",
        "    models=models,\n",
        "    N=n_runs,\n",
        "    scoring=scoring,\n",
        "    save_trail='_EEGEyeNet_ML_models')\n",
        "\n",
        "# Clean up\n",
        "del trainX, trainY"
      ],
      "metadata": {
        "id": "S7wVF7BbP3QF",
        "colab": {
          "base_uri": "https://localhost:8080/"
        },
        "outputId": "47705206-5d8e-464f-b3f7-20aa4d95d138"
      },
      "execution_count": null,
      "outputs": [
        {
          "output_type": "stream",
          "name": "stderr",
          "text": [
            "/usr/local/lib/python3.10/dist-packages/sklearn/svm/_base.py:299: ConvergenceWarning: Solver terminated early (max_iter=1200).  Consider pre-processing your data with StandardScaler or MinMaxScaler.\n",
            "  warnings.warn(\n",
            "/usr/local/lib/python3.10/dist-packages/sklearn/svm/_base.py:299: ConvergenceWarning: Solver terminated early (max_iter=1200).  Consider pre-processing your data with StandardScaler or MinMaxScaler.\n",
            "  warnings.warn(\n",
            "/usr/local/lib/python3.10/dist-packages/sklearn/svm/_base.py:299: ConvergenceWarning: Solver terminated early (max_iter=1200).  Consider pre-processing your data with StandardScaler or MinMaxScaler.\n",
            "  warnings.warn(\n",
            "/usr/local/lib/python3.10/dist-packages/sklearn/svm/_base.py:299: ConvergenceWarning: Solver terminated early (max_iter=1200).  Consider pre-processing your data with StandardScaler or MinMaxScaler.\n",
            "  warnings.warn(\n",
            "/usr/local/lib/python3.10/dist-packages/sklearn/svm/_base.py:299: ConvergenceWarning: Solver terminated early (max_iter=1200).  Consider pre-processing your data with StandardScaler or MinMaxScaler.\n",
            "  warnings.warn(\n",
            "/usr/local/lib/python3.10/dist-packages/sklearn/svm/_base.py:299: ConvergenceWarning: Solver terminated early (max_iter=1200).  Consider pre-processing your data with StandardScaler or MinMaxScaler.\n",
            "  warnings.warn(\n",
            "/usr/local/lib/python3.10/dist-packages/sklearn/svm/_base.py:299: ConvergenceWarning: Solver terminated early (max_iter=1200).  Consider pre-processing your data with StandardScaler or MinMaxScaler.\n",
            "  warnings.warn(\n",
            "/usr/local/lib/python3.10/dist-packages/sklearn/svm/_base.py:299: ConvergenceWarning: Solver terminated early (max_iter=1200).  Consider pre-processing your data with StandardScaler or MinMaxScaler.\n",
            "  warnings.warn(\n",
            "/usr/local/lib/python3.10/dist-packages/sklearn/svm/_base.py:299: ConvergenceWarning: Solver terminated early (max_iter=1200).  Consider pre-processing your data with StandardScaler or MinMaxScaler.\n",
            "  warnings.warn(\n",
            "/usr/local/lib/python3.10/dist-packages/sklearn/svm/_base.py:299: ConvergenceWarning: Solver terminated early (max_iter=1200).  Consider pre-processing your data with StandardScaler or MinMaxScaler.\n",
            "  warnings.warn(\n"
          ]
        }
      ]
    },
    {
      "cell_type": "code",
      "source": [
        "# Training and benchmarking the EEGEyeNet DL models\n",
        "# Modified from https://github.com/ardkastrati/EEGEyeNet\n",
        "config['feature_extraction'] = False\n",
        "from hyperparameters import our_DL_models\n",
        "\n",
        "# Load the data\n",
        "IOHelper.config['all_EEG_file'] = \"Position_task_with_dots_synchronised_min.npz\"\n",
        "trainX, trainY = IOHelper.get_npz_data(config['data_dir'], verbose=True)\n",
        "\n",
        "# Start benchmark\n",
        "np.savetxt(config['model_dir']+'/config_EEGEyeNet_DL.csv', [config['task'], config['dataset'], config['preprocessing']], fmt='%s')\n",
        "models = our_DL_models\n",
        "models = models[config['task']][config['dataset']][config['preprocessing']]\n",
        "benchmark.try_models(\n",
        "    trainX=trainX,\n",
        "    trainY=trainY[:,1:],\n",
        "    ids=trainY[:,0],\n",
        "    models=models,\n",
        "    N=n_runs,\n",
        "    scoring=scoring,\n",
        "    save_trail='_EEGEyeNet_DL_models')\n",
        "\n",
        "# Clean up\n",
        "del trainX, trainY"
      ],
      "metadata": {
        "id": "DBQYozH_rUUg"
      },
      "execution_count": null,
      "outputs": []
    },
    {
      "cell_type": "code",
      "source": [
        "# Add our model and SOTA\n",
        "from EEGViT_pretrained import EEGViT_Pretrained\n",
        "from our_models import Ours_Pretrained\n",
        "EEGViT_and_our_models = {\n",
        "    'Position_task': {\n",
        "        'dots' : {\n",
        "            'min' : {\n",
        "                'EEGViT': [EEGViT_Pretrained, {\n",
        "                    'model_name': \"EEGViT\",\n",
        "                    'nb_models': 1,\n",
        "                    'batch_size': 64,\n",
        "                    'n_epoch': 15,\n",
        "                    'learning_rate': 1e-4,\n",
        "                    'vit_model_name': \"google/vit-base-patch16-224\"}],\n",
        "                'Ours_Pretrained': [Ours_Pretrained, {\n",
        "                    'model_name': \"Ours_Pretrained\",\n",
        "                    'nb_models': 1,\n",
        "                    'batch_size': 64,\n",
        "                    'n_epoch': 15,\n",
        "                    'learning_rate': 1e-4,\n",
        "                    'vit_model_name': \"google/vit-base-patch16-224\"}]\n",
        "            }\n",
        "        }\n",
        "    }\n",
        "}"
      ],
      "metadata": {
        "id": "ck9a6XJj6YNb"
      },
      "execution_count": null,
      "outputs": []
    },
    {
      "cell_type": "code",
      "source": [
        "# Training and benchmarking EEGViT-pretrained model and our model\n",
        "config['feature_extraction'] = False\n",
        "\n",
        "# Load the data\n",
        "IOHelper.config['all_EEG_file'] = \"Position_task_with_dots_synchronised_min.npz\"\n",
        "trainX, trainY = IOHelper.get_npz_data(config['data_dir'], verbose=True)\n",
        "\n",
        "# Start benchmark\n",
        "np.savetxt(config['model_dir']+'/config_EEGViT_and_ours.csv', [config['task'], config['dataset'], config['preprocessing']], fmt='%s')\n",
        "models = EEGViT_and_our_models[config['task']][config['dataset']][config['preprocessing']]\n",
        "benchmark.try_models(\n",
        "    trainX=trainX,\n",
        "    trainY=trainY[:,1:],\n",
        "    ids=trainY[:,0],\n",
        "    models=models,\n",
        "    N=n_runs,\n",
        "    scoring=scoring,\n",
        "    save_trail='_EEGViT_and_our_models')\n",
        "\n",
        "# Clean up\n",
        "del trainX, trainY"
      ],
      "metadata": {
        "colab": {
          "base_uri": "https://localhost:8080/",
          "height": 498,
          "referenced_widgets": [
            "431eaae82b2f4f74ad9f4361a2bb7fb5",
            "7b60821747354306942784021376542e",
            "4ad1340a367449d5a9fce5b57eadf554",
            "5c99b19dee5b49569d659c81ac39c09b",
            "92a25e6783f848b7bf60d0c47cd11cd3",
            "c212750fbafe4ea385c0538e731c5dec",
            "e50e6e0a14f447e0ac735c89ade29cd3",
            "0b40b45753c64577a5d6ac2d6de2706e",
            "8ffeaa75322e4bc59f7724666f9bcf07",
            "dcd904fa641649afb3a8cdd4173971c7",
            "799918970bf5410997846f32581cd20b",
            "5b54ce25e7e24bd990969820f5d584b5",
            "f6b6b7c625cc4d9388b484ce9b651817",
            "a68ab8e9ec3a4e0982a58a47a8410657",
            "670591ee507749149fce08143f75ea77",
            "3bb49fcf8e644c7e944ec7a78aa555a0",
            "6234cd512cf6467191f02b9f0b51341f",
            "e9d9f9e0e8444802ac817a8982efdb46",
            "6c6185c40e7e4a70a220e1de59036816",
            "ddddf0518c914d1593bb34ff4ce6a3e9",
            "8f4bac47c98b402ea84aa614f8c9280e",
            "2e20866ad867493eac02749943c92b33"
          ]
        },
        "id": "fmSWjEvZYPjc",
        "outputId": "7225eb72-dafc-483b-8cd5-5351963cf2f0"
      },
      "execution_count": null,
      "outputs": [
        {
          "data": {
            "application/vnd.jupyter.widget-view+json": {
              "model_id": "431eaae82b2f4f74ad9f4361a2bb7fb5",
              "version_major": 2,
              "version_minor": 0
            },
            "text/plain": [
              "config.json:   0%|          | 0.00/69.7k [00:00<?, ?B/s]"
            ]
          },
          "metadata": {},
          "output_type": "display_data"
        },
        {
          "data": {
            "application/vnd.jupyter.widget-view+json": {
              "model_id": "5b54ce25e7e24bd990969820f5d584b5",
              "version_major": 2,
              "version_minor": 0
            },
            "text/plain": [
              "model.safetensors:   0%|          | 0.00/346M [00:00<?, ?B/s]"
            ]
          },
          "metadata": {},
          "output_type": "display_data"
        },
        {
          "metadata": {
            "tags": null
          },
          "name": "stderr",
          "output_type": "stream",
          "text": [
            "Some weights of ViTForImageClassification were not initialized from the model checkpoint at google/vit-base-patch16-224 and are newly initialized because the shapes did not match:\n",
            "- vit.embeddings.patch_embeddings.projection.weight: found shape torch.Size([768, 3, 16, 16]) in the checkpoint and torch.Size([768, 256, 8, 1]) in the model instantiated\n",
            "- vit.embeddings.position_embeddings: found shape torch.Size([1, 197, 768]) in the checkpoint and torch.Size([1, 225, 768]) in the model instantiated\n",
            "You should probably TRAIN this model on a down-stream task to be able to use it for predictions and inference.\n"
          ]
        },
        {
          "metadata": {
            "tags": null
          },
          "name": "stdout",
          "output_type": "stream",
          "text": [
            "Epoch 1, Training Loss: 75641.72378656914\n",
            "Epoch 1, Val Loss: 27474.184814453125\n",
            "Epoch 2, Training Loss: 24981.859375\n",
            "Epoch 2, Val Loss: 23504.90380859375\n",
            "Epoch 3, Training Loss: 22152.9711768617\n",
            "Epoch 3, Val Loss: 20404.342407226562\n",
            "Epoch 4, Training Loss: 17840.923927859043\n",
            "Epoch 4, Val Loss: 16688.5688273112\n",
            "Epoch 5, Training Loss: 15440.270457945478\n",
            "Epoch 5, Val Loss: 16192.830546061197\n",
            "Epoch 6, Training Loss: 14596.640936668882\n",
            "Epoch 6, Val Loss: 16278.141296386719\n",
            "Epoch 7, Training Loss: 13521.819830452128\n",
            "Epoch 7, Val Loss: 15029.24180094401\n",
            "Epoch 8, Training Loss: 13063.561762383644\n",
            "Epoch 8, Val Loss: 14943.929646809896\n",
            "Epoch 9, Training Loss: 12680.708331948139\n",
            "Epoch 9, Val Loss: 14888.913208007812\n",
            "Epoch 10, Training Loss: 12293.799187583112\n",
            "Epoch 10, Val Loss: 14847.694742838541\n"
          ]
        }
      ]
    },
    {
      "cell_type": "code",
      "source": [
        "# Ending Logs\n",
        "logging.info(\"--- Runtime: %s seconds ---\" % (time.time() - start_time))\n",
        "logging.info('Finished Logging')"
      ],
      "metadata": {
        "id": "omoi37eoWygO"
      },
      "execution_count": null,
      "outputs": []
    },
    {
      "cell_type": "markdown",
      "source": [
        "The results of the models can be found in directory ./runs  \n",
        "Note that the scores are in pixels, where 2 pixels = 1 millimeter"
      ],
      "metadata": {
        "id": "YSiPZIifDiRZ"
      }
    },
    {
      "cell_type": "code",
      "source": [
        "# You can zip the files of the run(s) if you want to save it\n",
        "!zip -r runs.zip ./runs\n",
        "\n",
        "# However, it is difficult to download massive files directly from Colab\n",
        "# The best solution for now is to copy it to your Google Drive\n",
        "!cp runs.zip /content/drive/MyDrive"
      ],
      "metadata": {
        "id": "IVU7draYhxFU"
      },
      "execution_count": null,
      "outputs": []
    }
  ]
}